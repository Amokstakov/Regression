{
 "cells": [
  {
   "cell_type": "markdown",
   "metadata": {
    "colab_type": "text",
    "id": "FI4gjuRVLvEK"
   },
   "source": [
    "##### Credit and Author Notes: Styling and Flow of this notebook was modelled after Univ6080 Notebook for Vectors and Matrices\n",
    "Citations will be made throughout the cells. \n",
    "Further references will be given at the end of the notebook\n",
    "This notebook is created off of the material from Mathematics for Machine Learning, by Deisenroth,Faisal, & Cheng.  Additionally, Hammad Shaikh and his notebooks from Mathematics of Machine Learning by Siraj"
   ]
  },
  {
   "cell_type": "markdown",
   "metadata": {},
   "source": [
    "# UNIV*6080 Major Project\n",
    "A Notebook on Chapter 9 - Linear Regression\n",
    "\n",
    "by Alex S. Moksyakov.\n",
    "\n",
    "0878632"
   ]
  },
  {
   "cell_type": "code",
   "execution_count": 25,
   "metadata": {
    "colab": {},
    "colab_type": "code",
    "id": "3dyf5H0Gjwul"
   },
   "outputs": [],
   "source": [
    "import numpy as np\n",
    "import matplotlib.pyplot as plt"
   ]
  },
  {
   "cell_type": "markdown",
   "metadata": {
    "colab_type": "text",
    "id": "6DqKeu9tLvEO"
   },
   "source": [
    "# Linear Regression\n",
    "Linear regression models the relationship between two variables that can be statistically related. What linear regression is attempting to model is the impact of one variable's variance, say X (also known as independent variable), to the other variable it is related to, Y (also known as the dependent variable) <cite>(Jekel, 2016)</cite>.\n",
    "\n",
    "We can take the linear regression in it's simple form as:\n",
    "$$\n",
    "Y = \\boldsymbol F(Xn)\\boldsymbol +\\epsilon \\sim \\mathcal N(0, \\sigma^2)\n",
    "$$\n",
    "where $$ \\epsilon\\ $$ is an i.i.d random variable that describes the measurement noise. <cite>(Fleshman, 2019)</cite>\n",
    "\n",
    "\n",
    "The task in all linear regression models is to find the function that models all the data accordingly. The challenge in linear regression is to find that same function that can also generalize well in predicting function values for inputs it has never before seen. <cite>(Deisenroth, Faisalm, Cheng, 2020)</cite>"
   ]
  },
  {
   "cell_type": "markdown",
   "metadata": {
    "colab_type": "text",
    "id": "6DqKeu9tLvEO"
   },
   "source": [
    "# Finding the right Regression Model\n",
    "\n",
    "In all machine learning models, there are an number of parameters that are needed to create a 'successful' model. \n",
    "For linear regression, there is a requirement to solve a number of problems such as:\n",
    "\n",
    "#### Choice of Model: \n",
    "Given a dataset, which function classes are good candidates for modeling the data?\n",
    "\n",
    "#### Finding good parameters:\n",
    "How do we find good model parameters? Here, we will need to look at different loss/objective functions (they determine what a “good” fit is) and optimization algorithms that allow us to minimize this loss.\n",
    "\n",
    "#### Overfitting\n",
    "Overfitting is a problem when the regression function fits the training data “too well” but does not generalize to unseen test data. <cite>(Deisenroth, Faisalm, Cheng, 2020)</cite>"
   ]
  },
  {
   "cell_type": "markdown",
   "metadata": {
    "colab_type": "text",
    "id": "6DqKeu9tLvEO"
   },
   "source": [
    "# Problem Formulation\n",
    "\n",
    "This chapter (and the rest of this notebook) will focus on parametric models, meaning we are looking for $ \\theta\\ $ that does the best job of modelling our data.\n",
    "\n",
    "In linear regression, we consider  the  special  case  that  the  parameters for Theta appear  linearly  in  our model. An example of linear regression is given by:\n",
    "\n",
    "$$\n",
    "y = \\boldsymbol x^T\\boldsymbol\\theta + \\epsilon\\,,\\quad \\epsilon \\sim \\mathcal N(0, \\sigma^2)\n",
    "$$\n",
    "\n",
    "This formulation describes linear functions and the parameter Theta that makes up the slope of these linear functions. <cite>(Deisenroth, 2020)</cite>"
   ]
  },
  {
   "cell_type": "code",
   "execution_count": 2,
   "metadata": {
    "colab": {},
    "colab_type": "code",
    "id": "N713kokaLvEO"
   },
   "outputs": [
    {
     "data": {
      "image/png": "[encoded data removed]",
      "text/plain": [
       "<Figure size 432x288 with 1 Axes>"
      ]
     },
     "metadata": {
      "needs_background": "light"
     },
     "output_type": "display_data"
    }
   ],
   "source": [
    "#Creating a training set of data for our linear model\n",
    "##This data was purposely chosen to be presented in separated dots - to show a linear upward trend \n",
    "\n",
    "X = np.array([-4,-3, -2, -1, 0,1, 2, 3, 4]).reshape(-1,1) \n",
    "Y = np.array([-1.8,-1.5,-1, -0.7, 0.1,0.75,1.2, 1.5, 1.8]).reshape(-1,1) \n",
    "\n",
    "#We use reshape to create a vector out of our initial Array\n",
    "\n",
    "####Plot the data\n",
    "plt.figure()\n",
    "plt.plot(X, Y, '+')\n",
    "plt.xlabel('X - Values')\n",
    "plt.ylabel('Y- Values');"
   ]
  },
  {
   "cell_type": "markdown",
   "metadata": {
    "colab_type": "text",
    "id": "vTE2g5Jckb24"
   },
   "source": [
    "Now that we have a simple data set shown above, we can explore different methods of linear regression to find the desired parameters for $\\theta$."
   ]
  },
  {
   "cell_type": "markdown",
   "metadata": {
    "colab_type": "text",
    "id": "6DqKeu9tLvEO"
   },
   "source": [
    "# Maximum Likelihood\n",
    "\n",
    "When talking about regression and finding the desired parameters $\\theta$, a popular approach is using the maximum likelihood estimation, where the goal is to find the parameters $\\theta$ that maximize the likelihood of achieving the desired value (duh!) <cite>(Brownlee, 2019)</cite>\n",
    "\n",
    "Maximum Likelihood Estimation, or MLE for short, is a probabilistic framework for estimating the parameters of a model.\n",
    "\n",
    "In Maximum Likelihood Estimation, we wish to maximize the conditional probability of observing the data (X) given a specific probability distribution and its parameters $\\theta$, stated formally as:\n",
    "\n",
    "$P(X; \\theta)$\n",
    "\n",
    "The join probability distribution of all the possible observations is depicted as X. It captures all the observations from 1 to n. The question that can be asked right now is how do we find the desired parameters $\\theta$ that maximize our likelihood? Well typically, we use gradient ascent (or descent on negative likelihood)<cite>(Deisenroth, Faisalm, Cheng, 2020)</cite>. In practice, instead of maximizing the likelihood directly, we apply the log-transformation to the likelihood function and minimize the negative log-likelihood.\n",
    "\n",
    "### Log-likelihood Function\n",
    "$$ - logp(y_n | x_n, \\theta) = - log \\prod_{n=1}^N p(y_n | \\boldsymbol x_n, \\boldsymbol\\theta)\\ = - \\sum_{n = 1}^N logp(y_n | x_n, \\theta)\n",
    "$$\n",
    "The above equation is our negative log-likelihood equation. This exploits that the likelihood factorizes over the number of data points due to our independence assumption on the training data. <cite>(Deisenroth, Faisalm, Cheng, 2020)</cite>\n",
    "\n",
    "\n",
    "In linear regression models - our likelihood is Gaussian, arriving at our new term:\n",
    "$$\n",
    "logp(y_n | x_n, \\theta) = - \\frac{1}{2\\sigma^2}(y_n - x_n^t\\theta)^2\n",
    "$$\n",
    "\n",
    "For this demonstration, we have left out the independent constant term at the end of this expression\n",
    "\n",
    "Using the above relationship within our negative log-likelihood we finally obtain our likelihood function:\n",
    "$$\n",
    "L(\\theta):= \\frac{1}{2\\sigma^2} \\sum_{n = 1}^N (y_n - x_n^t \\sigma)^2 = \\frac{1}{2\\sigma^2} ||y - X\\sigma||^2\n",
    "$$\n",
    "\n",
    "Let's compute the MLE for a linear regressive situation"
   ]
  },
  {
   "cell_type": "code",
   "execution_count": 3,
   "metadata": {
    "colab": {},
    "colab_type": "code",
    "id": "amYDCZDYLvEV"
   },
   "outputs": [
    {
     "data": {
      "text/plain": [
       "[<matplotlib.lines.Line2D at 0x27d4e66d748>]"
      ]
     },
     "execution_count": 3,
     "metadata": {},
     "output_type": "execute_result"
    },
    {
     "data": {
      "image/png": "[encoded data removed]",
      "text/plain": [
       "<Figure size 432x288 with 1 Axes>"
      ]
     },
     "metadata": {
      "needs_background": "light"
     },
     "output_type": "display_data"
    }
   ],
   "source": [
    "###Code created following the tutorial provided by Python Programming . net\n",
    "####URL : https://pythonprogramming.net/how-to-program-best-fit-line-machine-learning-tutorial/\n",
    "\n",
    "def MLE_line(x, y):\n",
    "    \n",
    "    # number of points in the training data set\n",
    "    n = len(x)    \n",
    "    # Get the mean for both X and Y\n",
    "    x_mean = sum(x)/n\n",
    "    y_mean = sum(y)/n\n",
    "        \n",
    "    # calculate slope by iterating through all of our points and means\n",
    "    num = 0\n",
    "    denom = 0\n",
    "    for i in range(n):\n",
    "        num += (x[i]-x_mean)*(y[i]-y_mean)\n",
    "        denom += (x[i]-x_mean)**2\n",
    "    slope = num/denom\n",
    "    \n",
    "    # calculate intercept\n",
    "    intercept = y_mean - slope*x_mean\n",
    "    return slope, intercept\n",
    "\n",
    "plt.plot(X,Y, '+')\n",
    "(m,b) = MLE_line(X,Y)\n",
    "\n",
    "regression_line = [(m*x)+b for x in X]\n",
    "plt.plot(X, regression_line)"
   ]
  },
  {
   "cell_type": "markdown",
   "metadata": {},
   "source": [
    "As we can see, we have fit a line to our data. This line is the maximum likelihood estimator for our particular set of data. Let's see us call our function on a completely different, linear set of data"
   ]
  },
  {
   "cell_type": "code",
   "execution_count": 5,
   "metadata": {},
   "outputs": [
    {
     "data": {
      "text/plain": [
       "[<matplotlib.lines.Line2D at 0x27d4e7c3b38>]"
      ]
     },
     "execution_count": 5,
     "metadata": {},
     "output_type": "execute_result"
    },
    {
     "data": {
      "image/png": "[encoded data removed]",
      "text/plain": [
       "<Figure size 432x288 with 1 Axes>"
      ]
     },
     "metadata": {
      "needs_background": "light"
     },
     "output_type": "display_data"
    }
   ],
   "source": [
    "###Data was adopted from William Fleshman in his Fundamentals Of Machine Learning Article (Fleshman, 2019)\n",
    "\n",
    "x = np.arange(100)\n",
    "#We add noise in the form of delta so that our points can be speratic \n",
    "noise = np.random.uniform(-10,10, size=(100,))\n",
    "y = .5 * x +4 + noise\n",
    "\n",
    "\n",
    "plt.plot(x,y, '.')\n",
    "\n",
    "(m,b) = MLE_line(x,y)\n",
    "\n",
    "#We plot a line from our slope and intercept from MLE_line function\n",
    "regression_line = [(m*x)+b for x in x] #(Kinsley, 2016)\n",
    "plt.plot(x, regression_line)"
   ]
  },
  {
   "cell_type": "markdown",
   "metadata": {},
   "source": [
    "### But what happens if we try to fit our line on polynomial data?"
   ]
  },
  {
   "cell_type": "code",
   "execution_count": 7,
   "metadata": {},
   "outputs": [
    {
     "data": {
      "text/plain": [
       "[<matplotlib.lines.Line2D at 0x27d4e8c2860>]"
      ]
     },
     "execution_count": 7,
     "metadata": {},
     "output_type": "execute_result"
    },
    {
     "data": {
      "image/png": "[encoded data removed]",
      "text/plain": [
       "<Figure size 432x288 with 1 Axes>"
      ]
     },
     "metadata": {
      "needs_background": "light"
     },
     "output_type": "display_data"
    }
   ],
   "source": [
    "###Data was adopted from Math of Machine Learning Course by Siraj by Hammad Shaikh\n",
    "####URL: https://github.com/hammadshaikhha/Math-of-Machine-Learning-Course-by-Siraj\n",
    "\n",
    "def f(x):\n",
    "    epsilon = np.random.normal(0, 0.2, len(x)+1)\n",
    "    # Nonlinear data with noise\n",
    "    ynonlinear = [np.sin(i/10) + (i/50)**2 + epsilon[i] for i in x]\n",
    "    return ynonlinear\n",
    "\n",
    "X = range(1,100)\n",
    "y = f(X)\n",
    "\n",
    "plt.figure()\n",
    "plt.plot(X, y, '+')\n",
    "plt.xlabel(\"$x$\")\n",
    "plt.ylabel(\"$y$\");\n",
    "\n",
    "\n",
    "(m,b) = MLE_line(X,y)\n",
    "\n",
    "regression_line = [(m*x)+b for x in X]\n",
    "plt.plot(X, regression_line)"
   ]
  },
  {
   "cell_type": "markdown",
   "metadata": {},
   "source": [
    "### Here we can see that for polynomial data, our MLE does a poor job - why?\n",
    "\n",
    "Our MLE have been straight lines. For obvious reasons, straight lines are not expressive for dynamic data. \n",
    "To get our MLE more dynamic, we can perform a non-linear transformation $$\\theta(x)$$ on all the inputs and combine the outputs of this transformation. Thus, we are left with the corresponding model:\n",
    "\n",
    "$$\n",
    "p(y|x, \\theta) = \\mathcal N(y|\\phi^t(x)\\theta, \\sigma^2)\n",
    "$$\n",
    "\n",
    "$$\n",
    "= \\phi^t(x)\\theta + \\epsilon \n",
    "$$\n",
    "$$\n",
    "=\\sum_{k=0}^K\\theta_k \\phi_k (x) + \\epsilon$$\n",
    "<cite>(Agarwal, 2018)</cite>\n",
    "<cite>(Deisenroth, Faisalm, Cheng, 2020)</cite>\n",
    "#### Polynomial Regression\n",
    "\n",
    "With the context of this demonstration, we are focused on regression problems in the form of:\n",
    "$$\n",
    "y = \\phi(x)^T\\boldsymbol\\theta\\ + \\epsilon\n",
    "$$\n",
    "\n",
    "A typical transformation matrix that is used in these regression problems is shown below\n",
    "$$\n",
    "\\boldsymbol\\phi(x)= \n",
    "\\begin{bmatrix}\n",
    "x^0\\\\\n",
    "x^1\\\\\n",
    "\\vdots\\\\\n",
    "x^K\n",
    "\\end{bmatrix}\\in\\mathbb{R}^{K+1}\\,.\n",
    "$$\n",
    "\n",
    "<cite>(Deisenroth, 2020)</cite>\n",
    "\n",
    "This relates to polynomial regression in the sense that we are 'lifting' the original 1D input space into now a K - dimensional space feature space consisting of all monomials $x^k$. With these features and utilizing the concept of the transformation matrix, we can perform proper regression on a polynomial of degree k -1:\n",
    "\n",
    "$$\n",
    "f(\\boldsymbol x) = \\sum_{k = 1}^K \\theta_k x^k\\ = \\phi^T(\\boldsymbol x) \\theta\n",
    "$$\\\n",
    "<cite>(Deisenroth, Faisalm, Cheng, 2020)</cite>"
   ]
  },
  {
   "cell_type": "code",
   "execution_count": 8,
   "metadata": {},
   "outputs": [],
   "source": [
    "### The code below will generate a MLE with degree 4\n",
    "####Adopted from Math of Machine Learning Course by Siraj by Hammad Shaikh\n",
    "def transpose_model(y,x):\n",
    "    # We transpose our newly created X matrix\n",
    "    Xtranspose = np.matrix.transpose(x)\n",
    "    \n",
    "    # Closed form solution\n",
    "    Theta_ = np.dot(np.linalg.inv(np.dot(Xtranspose,x)),np.dot(Xtranspose,y))\n",
    "    return Theta_"
   ]
  },
  {
   "cell_type": "code",
   "execution_count": 12,
   "metadata": {},
   "outputs": [],
   "source": [
    "# Outcome vector\n",
    "outcome = np.array(y)\n",
    "\n",
    "# Fit nonlinear data using a polynomial \n",
    "# We create an initial vector of one's to accomodate for our intercept\n",
    "ones = np.ones(len(y))\n",
    "\n",
    "# x^2 column\n",
    "x_2 = [i ** 2 for i in X]\n",
    "# x^3 column\n",
    "x_3 = [i ** 3 for i in X]\n",
    "# x^4 column\n",
    "x_4 = [i ** 4 for i in X]\n",
    "\n",
    "\n",
    "design = np.column_stack([ones, X, x_2, x_3, x_4])\n",
    "\n",
    "parameter = transpose_model(outcome,design)"
   ]
  },
  {
   "cell_type": "code",
   "execution_count": 13,
   "metadata": {},
   "outputs": [
    {
     "data": {
      "image/png": "[encoded data removed]",
      "text/plain": [
       "<Figure size 432x288 with 1 Axes>"
      ]
     },
     "metadata": {
      "needs_background": "light"
     },
     "output_type": "display_data"
    }
   ],
   "source": [
    "plt.plot(X, y, '+')\n",
    "plt.xlabel(\"x values\")\n",
    "plt.ylabel(\"y values\")\n",
    "plt.title(\"Nonlinear Data With Degree 4 Fit\")\n",
    "\n",
    "# Plot linear regression (degree 4)\n",
    "pred_yhat = parameter[0] + parameter[1]*np.asarray(X) + parameter[2]*np.asarray(x_2) + parameter[3]*np.asarray(x_3) + parameter[4]*np.asarray(x_4)\n",
    "polynomial_fit, = plt.plot(X, pred_yhat)\n",
    "\n",
    "# Legend for linear regression scatter plot\n",
    "plt.legend([polynomial_fit], ['Degree 4 Polynomial'])\n",
    "plt.show()"
   ]
  },
  {
   "cell_type": "markdown",
   "metadata": {
    "colab_type": "text",
    "id": "KYI8WT_0LvEX"
   },
   "source": [
    "As we can see, utilizing the transformation matrix logic we are able to plot a MLE with a degree 4 polynomial on non-linear data. \n",
    "\n",
    "Feel free to add or remove degree's for the polynomial. This degree acts as a hyper parameter as adjusting this can lead to overfitting or underfitting.\n",
    "\n",
    "#### Example of overfitting"
   ]
  },
  {
   "cell_type": "code",
   "execution_count": 14,
   "metadata": {},
   "outputs": [],
   "source": [
    "outcome = np.array(y)\n",
    "\n",
    "ones = np.ones(len(y))\n",
    "\n",
    "#We add more columns to represent the higher-order of the polynomial we are trying to fit\n",
    "\n",
    "# x^2 column\n",
    "x_2_ = [i ** 2 for i in X]\n",
    "\n",
    "# x^3 column\n",
    "x_3_ = [i ** 3 for i in X]\n",
    "\n",
    "# x^4 column\n",
    "x_4_ = [i ** 4 for i in X]\n",
    "\n",
    "# x^5 column\n",
    "x_5_ = [i ** 5 for i in X]\n",
    "\n",
    "# x^6 column\n",
    "x_6_ = [i ** 6 for i in X]\n",
    "\n",
    "# x^7 column\n",
    "x_7_ = [i ** 7 for i in X]\n",
    "\n",
    "# x^8 column\n",
    "x_8_ = [i ** 8 for i in X]\n",
    "\n",
    "# x^9 column\n",
    "x_9_ = [i ** 9 for i in X]\n",
    "\n",
    "design_ = np.column_stack([ones, X, x_2_, x_3_, x_4_, x_5_, x_6_,x_7_,x_8_,x_9_])\n",
    "betahat_ = transpose_model(outcome,design_)"
   ]
  },
  {
   "cell_type": "code",
   "execution_count": 15,
   "metadata": {},
   "outputs": [
    {
     "data": {
      "image/png": "[encoded data removed]",
      "text/plain": [
       "<Figure size 432x288 with 1 Axes>"
      ]
     },
     "metadata": {
      "needs_background": "light"
     },
     "output_type": "display_data"
    }
   ],
   "source": [
    "plt.plot(X, y, '+')\n",
    "plt.xlabel(\"x values\")\n",
    "plt.ylabel(\"y values\")\n",
    "plt.title(\"Nonlinear Data With Degree 9 Fit\")\n",
    "\n",
    "# Plot linear regression (degree 9)\n",
    "pred_yhat_ = betahat_[0] + betahat_[1]*np.asarray(X) + betahat_[2]*np.asarray(x_2_) + betahat_[3]*np.asarray(x_3_) + betahat_[4]*np.asarray(x_4_) + betahat_[5]*np.asarray(x_5_) + betahat_[6]*np.asarray(x_6_) + betahat_[7]*np.asarray(x_7_) + betahat_[8]*np.asarray(x_8_) + betahat_[9]*np.asarray(x_9_)\n",
    "simple_, = plt.plot(X, pred_yhat_)\n",
    "\n",
    "plt.legend([simple_], ['Degree 9 Polynomial'])\n",
    "plt.show()"
   ]
  },
  {
   "cell_type": "markdown",
   "metadata": {},
   "source": [
    "#### In the above example we may see that our model is fitting 'better' - however, this example demonstrates the effects of the degree hyperparameter and shows that eventually, the MLE will just overfit to the training data set"
   ]
  },
  {
   "cell_type": "markdown",
   "metadata": {
    "colab_type": "text",
    "id": "kk-Ph7mqLvEd"
   },
   "source": [
    "### Maximum A Posteriori Estimation\n",
    "\n",
    "As we just saw with the examples above - the MLE is prone to overfitting. \n",
    "To mitigate the effect of these big parameter values that are causing overfitting, we can place a prior distribution $p(\\theta)$ on the parameters.\n",
    "\n",
    "When a specific dataset is created, instead of doing what we did earlier with maximizing the likelihood, we now seek parameters that maximize the posterior distribution $P(\\theta | X,Y)$. This new type of regression is called Maximum A Posteriori (MAP) Estimation.\n",
    "\n",
    "$$\n",
    "p(\\boldsymbol\\theta|\\mathcal X, \\mathcal Y) = \\frac{\\overbrace{p(\\mathcal Y|\\mathcal X, \\boldsymbol\\theta)}^{\\text{likelihood}}\\overbrace{p(\\boldsymbol\\theta)}^{\\text{prior}}}{\\underbrace{p(\\mathcal Y|\\mathcal X)}_{\\text{evidence}}}\n",
    "$$\n",
    "<cite>(Deisenroth, 2020)</cite>\n",
    "\n",
    "The MAP estimate of the parameters is\n",
    "$$\n",
    "\\boldsymbol\\theta^{\\text{MAP}} = (\\boldsymbol\\Phi^T\\boldsymbol\\Phi + \\frac{\\sigma^2}{\\alpha^2}\\boldsymbol I)^{-1}\\boldsymbol\\Phi^T\\boldsymbol y\n",
    "$$\n",
    "where $\\sigma^2$ is the variance of the noise."
   ]
  },
  {
   "cell_type": "markdown",
   "metadata": {},
   "source": [
    "## Bayesian Linear Regression\n",
    "\n",
    "In the last two regression models, we focused on estimating the model parameters $\\theta$ by means of MLE or MAP estimation. We will now introduce a third type of regression called the Bayesian Linear Regression. In the Bayesian viewpoint, we formulate linear regression using probability distributions rather than point estimates <cite>(Koehrsen,2018)</cite>.\n",
    "\n",
    "When making predictions, Bayesian Linear Regression does not attempt to make a point estimate of the parameters, but instead it makes it on the full posterior distribution over the parameters. \n",
    "\n",
    "#### The Model\n",
    "In our newly introduced Bayseian Linear Regression, we consider the model as:\n",
    "$$\n",
    "prior : p(\\theta) = \\mathcal N(m_0, \\mathcal S_0)\n",
    "$$\n",
    "$$\n",
    "likelihood : P(y | x, \\theta ) = \\mathcal N(y | \\phi^T (x)\\theta, \\sigma^2)\n",
    "$$\n",
    "\n",
    "And assuming Gaussian, we can place a prior  $p(\\theta) = \\mathcal N(m_0, \\mathcal S_0)$ on  $\\theta$\n",
    "\n",
    "\n",
    "The aim of Bayesian Linear Regression is not to find the single “best” value of the model parameters, but rather to determine the posterior distribution for the model parameters <cite>(Deisenroth, Faisalm, Cheng, 2020)</cite>.\n",
    "\n",
    "### Posterior Distribution\n",
    "\n",
    "From our earlier definitions of likelihood and prior, we can compute their closed form solutions as:\n",
    "$$\n",
    "p(\\theta|\\mathcal X, \\mathcal Y) = \\mathcal N(\\theta|m_N,\\mathcal S_N),\n",
    "$$ \n",
    "$$\n",
    "\\mathcal S_N = (\\mathcal S_0^-1 + \\sigma^-2 \\phi ^T \\phi )^-1\n",
    "$$\n",
    "$$\n",
    "\\mathcal m_N = \\mathcal S_N (\\mathcal S_0^-1 m_0 + \\sigma ^-2 \\phi^T y)\n",
    "$$\n",
    "\n",
    "Where N describes the size of our training set <cite>(Deisenroth, Faisalm, Cheng, 2020)</cite>\n",
    "\n",
    "Assume a parameter prior $p(\\boldsymbol\\theta) = \\mathcal N (\\boldsymbol 0, \\alpha^2\\boldsymbol I)$ <cite>(Koehrsen, 2018)</cite>"
   ]
  },
  {
   "cell_type": "code",
   "execution_count": 16,
   "metadata": {
    "colab": {},
    "colab_type": "code",
    "id": "9Nv7cOuhLvEd"
   },
   "outputs": [],
   "source": [
    "###Adopted from Math of Machine Learning Course by Siraj by Hammad Shaikh\n",
    "####In conjuction with Bayesian Machine Learning by Martin Krasser\n",
    "\n",
    "def estimate_model(y,x,bayes):\n",
    "    X_transpose = np.matrix.transpose(x)\n",
    "    # Closed form solution \n",
    "    # Also, if the Bayes value = 0, we end up with a regular square loss function\n",
    "    _Dist = np.dot(np.linalg.inv(np.add(np.dot(X_transpose,x),bayes)),np.dot(X_transpose,y))\n",
    "    return _Dist"
   ]
  },
  {
   "cell_type": "code",
   "execution_count": 17,
   "metadata": {
    "colab": {},
    "colab_type": "code",
    "id": "NdsN836ALvEg"
   },
   "outputs": [],
   "source": [
    "outcome = np.array(y)\n",
    "\n",
    "ones = np.ones(len(y))\n",
    "\n",
    "# x^2 column\n",
    "x_2 = [i ** 2 for i in X]\n",
    "# x^3 column\n",
    "x_3 = [i ** 3 for i in X]\n",
    "# x^4 column\n",
    "x_4 = [i ** 4 for i in X]\n",
    "# x^5 column\n",
    "x_5 = [i ** 5 for i in X]\n",
    "\n",
    "\n",
    "# Define design matrix\n",
    "_multiple = np.column_stack((ones,x_2,x_3,x_4,x_5))\n",
    "\n",
    "# Estimate the parameter values for multiple linear regression model\n",
    "betahat_multiple = estimate_model(outcome,_multiple,0)"
   ]
  },
  {
   "cell_type": "code",
   "execution_count": 19,
   "metadata": {},
   "outputs": [],
   "source": [
    "#Based on assumption from above\n",
    "bayes_comp = np.sqrt(np.identity(len(_multiple[1,:])))\n",
    "\n",
    "# Estimate for bayesian regression\n",
    "_multiple_bayes = estimate_model(outcome,_multiple,bayes_comp)"
   ]
  },
  {
   "cell_type": "code",
   "execution_count": 21,
   "metadata": {},
   "outputs": [
    {
     "data": {
      "image/png": "[encoded data removed]",
      "text/plain": [
       "<Figure size 432x288 with 1 Axes>"
      ]
     },
     "metadata": {
      "needs_background": "light"
     },
     "output_type": "display_data"
    }
   ],
   "source": [
    "plt.plot(X, y, '+')\n",
    "plt.xlabel(\"x values\")\n",
    "plt.ylabel(\"y\")\n",
    "plt.title(\"Nonlinear Data With Degree 4 Fit\")\n",
    "\n",
    "\n",
    "# Plot bayesian regression \n",
    "bayesian, = plt.plot(X, _multiple_bayes[0] + np.sort(x_2)*_multiple_bayes[1] \n",
    "        + np.sort(x_3)*_multiple_bayes[2] + np.sort(x_4)*_multiple_bayes[3] \n",
    "         + np.sort(x_5)*_multiple_bayes[4],'r')\n",
    "\n",
    "\n",
    "plt.legend([bayesian], ['Bayesian, Degree 4'])\n",
    "\n",
    "# Show scatter plots\n",
    "plt.show()"
   ]
  },
  {
   "cell_type": "markdown",
   "metadata": {
    "colab_type": "text",
    "id": "0c0QDpxhLvEj"
   },
   "source": [
    "### MLE vs Bayesian\n",
    "\n",
    "For a fun example, let's use the exact same data we have been using and plot our MLE from before on the same graph as our newly defined Bayesian.\n",
    "\n"
   ]
  },
  {
   "cell_type": "code",
   "execution_count": 23,
   "metadata": {},
   "outputs": [
    {
     "data": {
      "image/png": "[encoded data removed]",
      "text/plain": [
       "<Figure size 432x288 with 1 Axes>"
      ]
     },
     "metadata": {
      "needs_background": "light"
     },
     "output_type": "display_data"
    }
   ],
   "source": [
    "plt.plot(X, y,'+', label=\"Original Data\")\n",
    "plt.xlabel(\"x values\")\n",
    "plt.ylabel(\"f(x)\")\n",
    "plt.title(\"Nonlinear Data With Degree 9 Fit\")\n",
    "\n",
    "\n",
    "# Plot bayesian regression \n",
    "bayesian, = plt.plot(X, _multiple_bayes[0] + np.sort(x_2)*_multiple_bayes[1] \n",
    "        + np.sort(x_3)*_multiple_bayes[2] + np.sort(x_4)*_multiple_bayes[3] \n",
    "         + np.sort(x_5)*_multiple_bayes[4], 'r', label='Bayesian Degree 4')\n",
    "\n",
    "# Set legend for plot on the right\n",
    "polynomial_fit, = plt.plot(X, pred_yhat, label=\"MLE - Polynomial Degree 4\")\n",
    "plt.legend()\n",
    "\n",
    "# Show scatter plots\n",
    "plt.show()"
   ]
  },
  {
   "cell_type": "markdown",
   "metadata": {
    "colab_type": "text",
    "id": "bgnTNRyfnq4D"
   },
   "source": [
    "## Conclusion\n",
    "\n",
    "As we can see, utilizing similar 'degrees;, in terms of this demonstration MLE actually performs better. MLE is a very common framework to use for linear or polynomial regression. The key downfall to MLE is the fact that it can easily overfit data.\n",
    "\n",
    "This brings me to the conclusion of this notebook, covering chapter 9 of https://mml-book.github.io/book/mml-book.pdf dubbed \"Linear Regression\".\n",
    "\n",
    "This notebook was created to serve as the final project for UNIV*6080 - Computational Thinking for AI\n",
    "\n",
    "#### Acknolwdgements\n",
    "I would like to acknolwedge a few individuals for the creation of this notebook (they're included in the citations/references as well)\n",
    "\n",
    "Firstly, Dr. Graham Taylor for this course.\n",
    "\n",
    "Secondly, Hammad Shaikh for his work in Linear/Bayesian Regression\n",
    "\n",
    "Thirdly, Martin Krasser for his work in Bayesian Linear Regression\n",
    "\n",
    "\n",
    "and also the authors of https://mml-book.github.io/book/mml-book.pdf - specifically Marc Deisenroth for the book and notebooks he created.\n",
    "\n",
    "Thank you!"
   ]
  },
  {
   "cell_type": "markdown",
   "metadata": {
    "colab_type": "text",
    "id": "d-Y_VtI4wbOJ"
   },
   "source": [
    "### Further reading\n",
    "\n",
    "For all further reading, please refer to the references attached. However, for some immediate information please see the following:\n",
    "\n",
    "[Martin Krasser's GitRepo for Bayesian Machine Learning](https://github.com/krasserm/bayesian-machine-learning)\n",
    "\n",
    "[Hammad Shaik's GitRepo for All things Associated with Mathematics in Machine Learning](https://github.com/hammadshaikhha/Math-of-Machine-Learning-Course-by-Siraj)\n",
    "\n",
    "[Zhiya Zuo's Blog for MLE vs MPA](https://zhiyzuo.github.io/MLE-vs-MAP/#map)\n",
    "\n",
    "[Jason Brownlee's Excellent Series on Machine Learning and Data Science](https://machinelearningmastery.com/implement-linear-regression-stochastic-gradient-descent-scratch-python/)\n",
    "\n",
    "[Vivek Palaniappen's Post on an introduction to MLE and how to implement it ](https://towardsdatascience.com/maximum-likelihood-estimation-how-it-works-and-implementing-in-python-b0eb2efb360f)\n"
   ]
  },
  {
   "cell_type": "markdown",
   "metadata": {},
   "source": [
    "### References:\n",
    "\n",
    "A lot of these were referenced within the text, however some were not but their work was used in building my own knowledge\n",
    "\n",
    "Agarwal, A. (2018, October 8). Polynomial Regression. Retrieved from https://towardsdatascience.com/polynomial-regression-bbe8b9d97491.\n",
    "\n",
    "Brownlee, J. (2019, October 31). A Gentle Introduction to Linear Regression With Maximum Likelihood Estimation. Retrieved from https://machinelearningmastery.com/linear-regression-with-maximum-likelihood-estimation/.\n",
    "\n",
    "Brownlee, J. (2019, August 13). How to Implement Linear Regression From Scratch in Python. Retrieved from https://machinelearningmastery.com/implement-linear-regression-stochastic-gradient-descent-scratch-python/.\n",
    "\n",
    "DEISENROTH, MARC PETER. FAISAL, A. ALDO. ONG, CHENG SOON. (2020). Mathematics For Machine Learning. Retrieved from https://mml-book.github.io/book/mml-book.pdf\n",
    "\n",
    "Fleshman, W. (2019, March 9). Fundamentals of Machine Learning (Part 2). Retrieved from https://towardsdatascience.com/maximum-likelihood-estimation-984af2dcfcac.\n",
    "\n",
    "Jekel, C. (2016, October). Maximum Likelihood Estimation Linear Regression. Retrieved from https://jekel.me/2016/Maximum-Likelihood-Linear-Regression/.\n",
    "\n",
    "Kinsley, H. (2016, April). How to Program the Line of Best Fit. Retrieved from https://pythonprogramming.net/how-to-program-best-fit-line-machine-learning-tutorial/.\n",
    "\n",
    "Koehrsen, W. (2018, April 25). Bayesian Linear Regression in Python: Using Machine Learning to Predict Student Grades Part 1. Retrieved from https://towardsdatascience.com/bayesian-linear-regression-in-python-using-machine-learning-to-predict-student-grades-part-1-7d0ad817fca5.\n",
    "\n",
    "Koehrsen, W. (2018, April 20). Introduction to Bayesian Linear Regression. Retrieved from https://towardsdatascience.com/introduction-to-bayesian-linear-regression-e66e60791ea7.\n",
    "\n",
    "Palaniappan, V. (2018, December 9). Maximum Likelihood Estimation: How it Works and Implementing in Python. Retrieved from https://towardsdatascience.com/maximum-likelihood-estimation-how-it-works-and-implementing-in-python-b0eb2efb360f.\n",
    "\n",
    "Tran, N. (2019, March 20). Machine Learning: Polynomial Regression with Python. Retrieved from https://towardsdatascience.com/machine-learning-polynomial-regression-with-python-5328e4e8a386.\n",
    "\n",
    "Zhiyzuo. (2018, February 24). MLE vs. MAP. Retrieved from https://zhiyzuo.github.io/MLE-vs-MAP/#map."
   ]
  },
  {
   "cell_type": "code",
   "execution_count": null,
   "metadata": {},
   "outputs": [],
   "source": []
  }
 ],
 "metadata": {
  "anaconda-cloud": {},
  "colab": {
   "collapsed_sections": [],
   "name": "VectorsAndMatrices.ipynb",
   "provenance": []
  },
  "kernelspec": {
   "display_name": "Python 3",
   "language": "python",
   "name": "python3"
  },
  "language_info": {
   "codemirror_mode": {
    "name": "ipython",
    "version": 3
   },
   "file_extension": ".py",
   "mimetype": "text/x-python",
   "name": "python",
   "nbconvert_exporter": "python",
   "pygments_lexer": "ipython3",
   "version": "3.7.3"
  }
 },
 "nbformat": 4,
 "nbformat_minor": 1
}
